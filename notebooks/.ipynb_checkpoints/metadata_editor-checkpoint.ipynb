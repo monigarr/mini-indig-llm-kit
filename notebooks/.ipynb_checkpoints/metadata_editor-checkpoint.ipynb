{
 "cells": [
  {
   "cell_type": "code",
   "execution_count": null,
   "id": "ae66dccc",
   "metadata": {
    "vscode": {
     "languageId": "plaintext"
    }
   },
   "outputs": [],
   "source": [
    "# Cell 1: Load interactive input widgets\n",
    "import json\n",
    "import ipywidgets as widgets\n",
    "from IPython.display import display\n",
    "from pathlib import Path\n",
    "\n",
    "output_path = Path(\"../datasets/generated_dataset_metadata.json\")\n",
    "\n",
    "# Metadata fields\n",
    "language = widgets.Text(description=\"Language\", value=\"Kanien’kéha\")\n",
    "dialect = widgets.Dropdown(description=\"Dialect\", options=[\"Eastern\", \"Central\", \"Western\", \"English Phonetics\"])\n",
    "version = widgets.Text(description=\"Version\", value=\"2025.06\")\n",
    "description = widgets.Textarea(description=\"Description\", layout=widgets.Layout(width='80%'))\n",
    "source = widgets.Textarea(description=\"Source\", layout=widgets.Layout(width='80%'))\n",
    "license_type = widgets.Dropdown(description=\"License\", options=[\"CC-BY-4.0\", \"CC0\", \"MIT\", \"Apache-2.0\", \"custom-community-license\"])\n",
    "formats = widgets.SelectMultiple(description=\"Formats\", options=[\"text\", \"audio\", \"video\", \"image\", \"transcription\", \"translation\", \"annotation\"])\n",
    "features = widgets.SelectMultiple(description=\"Features\", options=[\"morpheme-level\", \"pronoun-prefixes\", \"stem-mapping\", \"audio-aligned\", \"tokenized\", \"whisper-transcribed\"])\n"
   ]
  },
  {
   "cell_type": "code",
   "execution_count": null,
   "id": "4d7fec5a",
   "metadata": {
    "vscode": {
     "languageId": "plaintext"
    }
   },
   "outputs": [],
   "source": [
    "# Cell 2: Ethical Guidelines Inputs\n",
    "community_involvement = widgets.Textarea(description=\"Community Involvement\", layout=widgets.Layout(width='80%'))\n",
    "data_sovereignty = widgets.Textarea(description=\"Data Sovereignty\", layout=widgets.Layout(width='80%'))\n",
    "cultural_safety = widgets.Textarea(description=\"Cultural Safety\", layout=widgets.Layout(width='80%'))\n"
   ]
  },
  {
   "cell_type": "code",
   "execution_count": null,
   "id": "df17e695",
   "metadata": {
    "vscode": {
     "languageId": "plaintext"
    }
   },
   "outputs": [],
   "source": [
    "# Cell 3: Contributors\n",
    "contrib_name = widgets.Text(description=\"Name\")\n",
    "contrib_role = widgets.Dropdown(description=\"Role\", options=[\"speaker\", \"linguist\", \"engineer\", \"educator\", \"artist\", \"community-lead\"])\n",
    "contrib_affiliation = widgets.Text(description=\"Affiliation\")\n",
    "contrib_contact = widgets.Text(description=\"Contact\")\n",
    "\n",
    "add_contrib_btn = widgets.Button(description=\"Add Contributor\")\n",
    "contribs = []\n",
    "\n",
    "def on_add_contributor(b):\n",
    "    contribs.append({\n",
    "        \"name\": contrib_name.value,\n",
    "        \"role\": contrib_role.value,\n",
    "        \"affiliation\": contrib_affiliation.value,\n",
    "        \"contact\": contrib_contact.value\n",
    "    })\n",
    "    print(f\"✅ Added: {contrib_name.value} ({contrib_role.value})\")\n",
    "\n",
    "add_contrib_btn.on_click(on_add_contributor)\n",
    "\n",
    "display(contrib_name, contrib_role, contrib_affiliation, contrib_contact, add_contrib_btn)\n"
   ]
  },
  {
   "cell_type": "code",
   "execution_count": null,
   "id": "7d4ad812",
   "metadata": {
    "vscode": {
     "languageId": "plaintext"
    }
   },
   "outputs": [],
   "source": [
    "# Cell 4: Save Metadata\n",
    "save_btn = widgets.Button(description=\"Save Metadata\")\n",
    "\n",
    "def save_metadata(b):\n",
    "    metadata = {\n",
    "        \"language\": language.value,\n",
    "        \"dialect\": dialect.value,\n",
    "        \"version\": version.value,\n",
    "        \"description\": description.value,\n",
    "        \"source\": source.value,\n",
    "        \"license\": license_type.value,\n",
    "        \"formats\": list(formats.value),\n",
    "        \"features\": list(features.value),\n",
    "        \"ethical_guidelines\": {\n",
    "            \"community_involvement\": community_involvement.value,\n",
    "            \"data_sovereignty\": data_sovereignty.value,\n",
    "            \"cultural_safety\": cultural_safety.value\n",
    "        },\n",
    "        \"contributors\": contribs,\n",
    "        \"dependencies\": []\n",
    "    }\n",
    "\n",
    "    with open(output_path, \"w\", encoding='utf-8') as f:\n",
    "        json.dump(metadata, f, indent=2, ensure_ascii=False)\n",
    "    print(f\"✅ Metadata saved to {output_path}\")\n",
    "\n",
    "save_btn.on_click(save_metadata)\n",
    "display(save_btn)\n"
   ]
  }
 ],
 "metadata": {
  "language_info": {
   "name": "python"
  }
 },
 "nbformat": 4,
 "nbformat_minor": 5
}
