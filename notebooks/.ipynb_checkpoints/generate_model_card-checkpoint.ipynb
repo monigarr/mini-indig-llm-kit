{
 "cells": [
  {
   "cell_type": "code",
   "execution_count": null,
   "id": "e9170ef6",
   "metadata": {
    "vscode": {
     "languageId": "plaintext"
    }
   },
   "outputs": [],
   "source": [
    "This notebook loads metadata and fills in the model_card_template.md automatically."
   ]
  },
  {
   "cell_type": "code",
   "execution_count": null,
   "id": "030ebe8b",
   "metadata": {
    "vscode": {
     "languageId": "plaintext"
    }
   },
   "outputs": [],
   "source": [
    "# Cell 1: Imports\n",
    "import json\n",
    "from pathlib import Path\n",
    "\n",
    "template_path = Path(\"../config/model_card_template.md\")\n",
    "metadata_path = Path(\"../datasets/generated_dataset_metadata.json\")\n",
    "output_path = Path(\"../models/generated_model_card.md\")\n",
    "\n",
    "with open(template_path, \"r\", encoding=\"utf-8\") as f:\n",
    "    template = f.read()\n",
    "\n",
    "with open(metadata_path, \"r\", encoding=\"utf-8\") as f:\n",
    "    meta = json.load(f)\n"
   ]
  },
  {
   "cell_type": "code",
   "execution_count": null,
   "id": "91e4e4de",
   "metadata": {
    "vscode": {
     "languageId": "plaintext"
    }
   },
   "outputs": [],
   "source": [
    "# Cell 2: Replace fields\n",
    "filled = template\n",
    "filled = filled.replace(\"[MODEL_NAME_HERE]\", f\"{meta['language']} {meta['dialect']} LLM\")\n",
    "filled = filled.replace(\"[MODEL_VERSION]\", meta.get(\"version\", \"1.0\"))\n",
    "filled = filled.replace(\"[YYYY-MM-DD]\", \"2025-06-25\")\n",
    "filled = filled.replace(\"[LICENSE_TYPE]\", meta.get(\"license\", \"custom-community-license\"))\n",
    "filled = filled.replace(\"[AUTHOR_NAMES]\", \", \".join([c[\"name\"] for c in meta[\"contributors\"] if c[\"role\"] == \"engineer\"]))\n",
    "filled = filled.replace(\"[COMMUNITY / ORGANIZATION]\", meta[\"contributors\"][0].get(\"affiliation\", \"\"))\n",
    "filled = filled.replace(\"[Eastern / Central / Western / English-Phonetic]\", meta.get(\"dialect\", \"\"))\n",
    "filled = filled.replace(\"[GitHub Repository URL]\", \"https://github.com/YOUR_USERNAME/mini-indig-llm-kit\")\n",
    "\n",
    "# Save\n",
    "with open(output_path, \"w\", encoding=\"utf-8\") as f:\n",
    "    f.write(filled)\n",
    "\n",
    "print(f\"✅ Model card saved to {output_path}\")\n"
   ]
  }
 ],
 "metadata": {
  "language_info": {
   "name": "python"
  }
 },
 "nbformat": 4,
 "nbformat_minor": 5
}
