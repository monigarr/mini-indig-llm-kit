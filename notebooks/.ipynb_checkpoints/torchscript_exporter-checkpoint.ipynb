{
 "cells": [
  {
   "cell_type": "code",
   "execution_count": null,
   "id": "c4f6310d",
   "metadata": {
    "vscode": {
     "languageId": "plaintext"
    }
   },
   "outputs": [],
   "source": [
    "This is the Jupyter Notebook Version of our python script at \n",
    "../offline-deployment/torchscript_exporter.py"
   ]
  },
  {
   "cell_type": "code",
   "execution_count": null,
   "id": "6b70c700",
   "metadata": {
    "vscode": {
     "languageId": "plaintext"
    }
   },
   "outputs": [],
   "source": [
    "# 📓 TorchScript Exporter – Mini-Indig-LLM-Kit (Notebook Version)\n",
    "\n",
    "from transformers import AutoModelForCausalLM, AutoTokenizer\n",
    "import torch\n",
    "import os"
   ]
  },
  {
   "cell_type": "code",
   "execution_count": null,
   "id": "2895eda9",
   "metadata": {
    "vscode": {
     "languageId": "plaintext"
    }
   },
   "outputs": [],
   "source": [
    "# 🔧 Config: Update these paths as needed\n",
    "model_path = \"../models/eastern_llm\"\n",
    "tokenizer_path = \"../tokenizer/custom_tokenizer.json\"  # or None to auto-load from model\n",
    "output_path = \"../offline-deployment/eastern_llm_torchscript.pt\"\n",
    "max_seq_len = 128"
   ]
  },
  {
   "cell_type": "code",
   "execution_count": null,
   "id": "9a74ca1d",
   "metadata": {
    "vscode": {
     "languageId": "plaintext"
    }
   },
   "outputs": [],
   "source": [
    "# 🔄 Load Model\n",
    "print(f\"🔧 Loading model from {model_path}\")\n",
    "model = AutoModelForCausalLM.from_pretrained(\n",
    "    model_path,\n",
    "    torch_dtype=torch.float16 if torch.cuda.is_available() else torch.float32,\n",
    "    low_cpu_mem_usage=True,\n",
    ")\n",
    "model.eval()\n"
   ]
  },
  {
   "cell_type": "code",
   "execution_count": null,
   "id": "c0961075",
   "metadata": {
    "vscode": {
     "languageId": "plaintext"
    }
   },
   "outputs": [],
   "source": [
    "# 🧠 Tokenizer\n",
    "if tokenizer_path and os.path.exists(tokenizer_path):\n",
    "    print(f\"📚 Loading tokenizer from {tokenizer_path}\")\n",
    "    tokenizer = AutoTokenizer.from_pretrained(tokenizer_path, trust_remote_code=True)\n",
    "else:\n",
    "    print(f\"📚 Loading tokenizer from model folder\")\n",
    "    tokenizer = AutoTokenizer.from_pretrained(model_path)"
   ]
  },
  {
   "cell_type": "code",
   "execution_count": null,
   "id": "2633e7de",
   "metadata": {
    "vscode": {
     "languageId": "plaintext"
    }
   },
   "outputs": [],
   "source": [
    "# 🤖 Build dummy input\n",
    "example_input = tokenizer(\"Kenòn:we’s\", return_tensors=\"pt\", padding=\"max_length\", max_length=max_seq_len)\n",
    "input_ids = example_input[\"input_ids\"]\n"
   ]
  },
  {
   "cell_type": "code",
   "execution_count": null,
   "id": "1c68f2e1",
   "metadata": {
    "vscode": {
     "languageId": "plaintext"
    }
   },
   "outputs": [],
   "source": [
    "# 🎯 Trace and Save\n",
    "print(f\"📦 Saving TorchScript model to {output_path}\")\n",
    "traced = torch.jit.trace(model, (input_ids,))\n",
    "torch.jit.save(traced, output_path)\n",
    "\n",
    "print(\"✅ Done!\")"
   ]
  }
 ],
 "metadata": {
  "language_info": {
   "name": "python"
  }
 },
 "nbformat": 4,
 "nbformat_minor": 5
}
