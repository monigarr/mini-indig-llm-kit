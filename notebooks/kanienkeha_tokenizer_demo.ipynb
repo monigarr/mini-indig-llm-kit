{
 "cells": [
  {
   "cell_type": "markdown",
   "id": "cf5266c2",
   "metadata": {},
   "source": [
    "# 🪶 Kanien’kéha Tokenizer Demo\n",
    "\n",
    "This demo loads vocabulary rules and a sample data template for the Akwesasne dialect of Kanien’kéha (Mohawk), processes them into morpheme segments, and prepares data for tokenizer training and evaluation.\n",
    "\n",
    "**Author:** MoniGarr  \n",
    "**Mission:** AI Research Residency Qualification · Onkwehonwehneha NLP"
   ]
  },
  {
   "cell_type": "code",
   "execution_count": 5,
   "id": "24c02d44",
   "metadata": {},
   "outputs": [
    {
     "name": "stdout",
     "output_type": "stream",
     "text": [
      "Requirement already satisfied: pyyaml in c:\\users\\monig\\anaconda3\\envs\\mini-indig-llm-kit\\lib\\site-packages (6.0.2)\n",
      "Requirement already satisfied: pandas in c:\\users\\monig\\anaconda3\\envs\\mini-indig-llm-kit\\lib\\site-packages (2.3.1)\n",
      "Requirement already satisfied: numpy>=1.26.0 in c:\\users\\monig\\anaconda3\\envs\\mini-indig-llm-kit\\lib\\site-packages (from pandas) (2.3.1)\n",
      "Requirement already satisfied: python-dateutil>=2.8.2 in c:\\users\\monig\\anaconda3\\envs\\mini-indig-llm-kit\\lib\\site-packages (from pandas) (2.9.0.post0)\n",
      "Requirement already satisfied: pytz>=2020.1 in c:\\users\\monig\\anaconda3\\envs\\mini-indig-llm-kit\\lib\\site-packages (from pandas) (2025.2)\n",
      "Requirement already satisfied: tzdata>=2022.7 in c:\\users\\monig\\anaconda3\\envs\\mini-indig-llm-kit\\lib\\site-packages (from pandas) (2025.2)\n",
      "Requirement already satisfied: six>=1.5 in c:\\users\\monig\\anaconda3\\envs\\mini-indig-llm-kit\\lib\\site-packages (from python-dateutil>=2.8.2->pandas) (1.17.0)\n"
     ]
    }
   ],
   "source": [
    "# 🔧 Install Required Packages\n",
    "!pip install pyyaml pandas"
   ]
  },
  {
   "cell_type": "code",
   "execution_count": 6,
   "id": "a66dc5f7",
   "metadata": {},
   "outputs": [],
   "source": [
    "# 📦 Import Modules\n",
    "import yaml\n",
    "import json\n",
    "import pandas as pd\n",
    "from pathlib import Path"
   ]
  },
  {
   "cell_type": "code",
   "execution_count": 24,
   "id": "1f4b6ab0",
   "metadata": {},
   "outputs": [
    {
     "data": {
      "text/plain": [
       "dict_keys(['language', 'type', 'dialects', 'description'])"
      ]
     },
     "execution_count": 24,
     "metadata": {},
     "output_type": "execute_result"
    }
   ],
   "source": [
    "# 📂 Load Vocab Rules (YAML)\n",
    "with open(\"/Github/mini-indig-llm-kit/datasets/kanienkeha_vocab_extended_rules.yaml\", \"r\", encoding=\"utf-8\") as file:\n",
    "    vocab_rules = yaml.safe_load(file)\n",
    "vocab_rules.keys()"
   ]
  },
  {
   "cell_type": "code",
   "execution_count": 26,
   "id": "b9cb2f30",
   "metadata": {},
   "outputs": [
    {
     "data": {
      "text/html": [
       "<div>\n",
       "<style scoped>\n",
       "    .dataframe tbody tr th:only-of-type {\n",
       "        vertical-align: middle;\n",
       "    }\n",
       "\n",
       "    .dataframe tbody tr th {\n",
       "        vertical-align: top;\n",
       "    }\n",
       "\n",
       "    .dataframe thead th {\n",
       "        text-align: right;\n",
       "    }\n",
       "</style>\n",
       "<table border=\"1\" class=\"dataframe\">\n",
       "  <thead>\n",
       "    <tr style=\"text-align: right;\">\n",
       "      <th></th>\n",
       "      <th>input_text</th>\n",
       "      <th>translation</th>\n",
       "      <th>morpheme_gloss</th>\n",
       "    </tr>\n",
       "  </thead>\n",
       "  <tbody>\n",
       "    <tr>\n",
       "      <th>0</th>\n",
       "      <td>Kenòn:we’s</td>\n",
       "      <td>I like it.</td>\n",
       "      <td>[ke-, nòn:we, -’s]</td>\n",
       "    </tr>\n",
       "    <tr>\n",
       "      <th>1</th>\n",
       "      <td>Wakenòn:we’</td>\n",
       "      <td>I liked it.</td>\n",
       "      <td>[wa-, ke-, nòn:we, -’]</td>\n",
       "    </tr>\n",
       "    <tr>\n",
       "      <th>2</th>\n",
       "      <td>Ronòn:we’s</td>\n",
       "      <td>He likes it.</td>\n",
       "      <td>[ro-, nòn:we, -’s]</td>\n",
       "    </tr>\n",
       "  </tbody>\n",
       "</table>\n",
       "</div>"
      ],
      "text/plain": [
       "    input_text   translation          morpheme_gloss\n",
       "0   Kenòn:we’s    I like it.      [ke-, nòn:we, -’s]\n",
       "1  Wakenòn:we’   I liked it.  [wa-, ke-, nòn:we, -’]\n",
       "2   Ronòn:we’s  He likes it.      [ro-, nòn:we, -’s]"
      ]
     },
     "execution_count": 26,
     "metadata": {},
     "output_type": "execute_result"
    }
   ],
   "source": [
    "# 📂 Load Sample Data Template (JSON)\n",
    "with open(\"/Github/mini-indig-llm-kit/datasets/data_template.json\", \"r\", encoding=\"utf-8\") as file:\n",
    "    sample_data = json.load(file)\n",
    "df = pd.DataFrame(sample_data)\n",
    "df[['input_text', 'translation', 'morpheme_gloss']]"
   ]
  },
  {
   "cell_type": "markdown",
   "id": "8c73328c",
   "metadata": {},
   "source": [
    "## 🧠 Build Morphemes Dataset"
   ]
  },
  {
   "cell_type": "code",
   "execution_count": 27,
   "id": "71da525d",
   "metadata": {},
   "outputs": [
    {
     "name": "stdout",
     "output_type": "stream",
     "text": [
      "✅ morphemes_extended.json created.\n"
     ]
    }
   ],
   "source": [
    "# 🔁 Flatten morphemes into high-quality JSON\n",
    "morpheme_records = []\n",
    "\n",
    "for entry in sample_data:\n",
    "    for idx, morph in enumerate(entry[\"morpheme_gloss\"]):\n",
    "        morpheme_records.append({\n",
    "            \"source_id\": entry[\"id\"],\n",
    "            \"surface_form\": morph,\n",
    "            \"token_index\": idx,\n",
    "            \"input_text\": entry[\"input_text\"],\n",
    "            \"translation\": entry[\"translation\"],\n",
    "            \"tag\": entry.get(\"morpheme_tags\", [])[idx] if idx < len(entry.get(\"morpheme_tags\", [])) else None,\n",
    "            \"stem_type\": entry.get(\"stem_type\"),\n",
    "            \"category\": entry.get(\"category\"),\n",
    "            \"usage_context\": entry.get(\"usage_context\"),\n",
    "            \"validation_status\": entry.get(\"validation_status\")\n",
    "        })\n",
    "\n",
    "with open(\"/Github/mini-indig-llm-kit/datasets/generated/morphemes_extended.json\", \"w\", encoding=\"utf-8\") as f:\n",
    "    json.dump(morpheme_records, f, ensure_ascii=False, indent=2)\n",
    "\n",
    "print(\"✅ morphemes_extended.json created.\")"
   ]
  },
  {
   "cell_type": "markdown",
   "id": "9fa2235e",
   "metadata": {},
   "source": [
    "## 📊 Visual Inspection"
   ]
  },
  {
   "cell_type": "code",
   "execution_count": 30,
   "id": "f1c190e1",
   "metadata": {},
   "outputs": [
    {
     "data": {
      "text/html": [
       "<div>\n",
       "<style scoped>\n",
       "    .dataframe tbody tr th:only-of-type {\n",
       "        vertical-align: middle;\n",
       "    }\n",
       "\n",
       "    .dataframe tbody tr th {\n",
       "        vertical-align: top;\n",
       "    }\n",
       "\n",
       "    .dataframe thead th {\n",
       "        text-align: right;\n",
       "    }\n",
       "</style>\n",
       "<table border=\"1\" class=\"dataframe\">\n",
       "  <thead>\n",
       "    <tr style=\"text-align: right;\">\n",
       "      <th></th>\n",
       "      <th>source_id</th>\n",
       "      <th>surface_form</th>\n",
       "      <th>token_index</th>\n",
       "      <th>input_text</th>\n",
       "      <th>translation</th>\n",
       "      <th>tag</th>\n",
       "      <th>stem_type</th>\n",
       "      <th>category</th>\n",
       "      <th>usage_context</th>\n",
       "      <th>validation_status</th>\n",
       "    </tr>\n",
       "  </thead>\n",
       "  <tbody>\n",
       "    <tr>\n",
       "      <th>0</th>\n",
       "      <td>1</td>\n",
       "      <td>ke-</td>\n",
       "      <td>0</td>\n",
       "      <td>Kenòn:we’s</td>\n",
       "      <td>I like it.</td>\n",
       "      <td>1SG</td>\n",
       "      <td>C-STEM</td>\n",
       "      <td>blue</td>\n",
       "      <td>everyday expression</td>\n",
       "      <td>verified</td>\n",
       "    </tr>\n",
       "    <tr>\n",
       "      <th>1</th>\n",
       "      <td>1</td>\n",
       "      <td>nòn:we</td>\n",
       "      <td>1</td>\n",
       "      <td>Kenòn:we’s</td>\n",
       "      <td>I like it.</td>\n",
       "      <td>like</td>\n",
       "      <td>C-STEM</td>\n",
       "      <td>blue</td>\n",
       "      <td>everyday expression</td>\n",
       "      <td>verified</td>\n",
       "    </tr>\n",
       "    <tr>\n",
       "      <th>2</th>\n",
       "      <td>1</td>\n",
       "      <td>-’s</td>\n",
       "      <td>2</td>\n",
       "      <td>Kenòn:we’s</td>\n",
       "      <td>I like it.</td>\n",
       "      <td>habitual</td>\n",
       "      <td>C-STEM</td>\n",
       "      <td>blue</td>\n",
       "      <td>everyday expression</td>\n",
       "      <td>verified</td>\n",
       "    </tr>\n",
       "    <tr>\n",
       "      <th>3</th>\n",
       "      <td>2</td>\n",
       "      <td>wa-</td>\n",
       "      <td>0</td>\n",
       "      <td>Wakenòn:we’</td>\n",
       "      <td>I liked it.</td>\n",
       "      <td>PAST</td>\n",
       "      <td>C-STEM</td>\n",
       "      <td>blue</td>\n",
       "      <td>past tense storytelling</td>\n",
       "      <td>pending_review</td>\n",
       "    </tr>\n",
       "    <tr>\n",
       "      <th>4</th>\n",
       "      <td>2</td>\n",
       "      <td>ke-</td>\n",
       "      <td>1</td>\n",
       "      <td>Wakenòn:we’</td>\n",
       "      <td>I liked it.</td>\n",
       "      <td>1SG</td>\n",
       "      <td>C-STEM</td>\n",
       "      <td>blue</td>\n",
       "      <td>past tense storytelling</td>\n",
       "      <td>pending_review</td>\n",
       "    </tr>\n",
       "    <tr>\n",
       "      <th>5</th>\n",
       "      <td>2</td>\n",
       "      <td>nòn:we</td>\n",
       "      <td>2</td>\n",
       "      <td>Wakenòn:we’</td>\n",
       "      <td>I liked it.</td>\n",
       "      <td>like</td>\n",
       "      <td>C-STEM</td>\n",
       "      <td>blue</td>\n",
       "      <td>past tense storytelling</td>\n",
       "      <td>pending_review</td>\n",
       "    </tr>\n",
       "    <tr>\n",
       "      <th>6</th>\n",
       "      <td>2</td>\n",
       "      <td>-’</td>\n",
       "      <td>3</td>\n",
       "      <td>Wakenòn:we’</td>\n",
       "      <td>I liked it.</td>\n",
       "      <td>PUNC</td>\n",
       "      <td>C-STEM</td>\n",
       "      <td>blue</td>\n",
       "      <td>past tense storytelling</td>\n",
       "      <td>pending_review</td>\n",
       "    </tr>\n",
       "    <tr>\n",
       "      <th>7</th>\n",
       "      <td>3</td>\n",
       "      <td>ro-</td>\n",
       "      <td>0</td>\n",
       "      <td>Ronòn:we’s</td>\n",
       "      <td>He likes it.</td>\n",
       "      <td>3SG.M</td>\n",
       "      <td>C-STEM</td>\n",
       "      <td>blue</td>\n",
       "      <td>basic sentence practice</td>\n",
       "      <td>needs_validation</td>\n",
       "    </tr>\n",
       "    <tr>\n",
       "      <th>8</th>\n",
       "      <td>3</td>\n",
       "      <td>nòn:we</td>\n",
       "      <td>1</td>\n",
       "      <td>Ronòn:we’s</td>\n",
       "      <td>He likes it.</td>\n",
       "      <td>like</td>\n",
       "      <td>C-STEM</td>\n",
       "      <td>blue</td>\n",
       "      <td>basic sentence practice</td>\n",
       "      <td>needs_validation</td>\n",
       "    </tr>\n",
       "    <tr>\n",
       "      <th>9</th>\n",
       "      <td>3</td>\n",
       "      <td>-’s</td>\n",
       "      <td>2</td>\n",
       "      <td>Ronòn:we’s</td>\n",
       "      <td>He likes it.</td>\n",
       "      <td>habitual</td>\n",
       "      <td>C-STEM</td>\n",
       "      <td>blue</td>\n",
       "      <td>basic sentence practice</td>\n",
       "      <td>needs_validation</td>\n",
       "    </tr>\n",
       "  </tbody>\n",
       "</table>\n",
       "</div>"
      ],
      "text/plain": [
       "   source_id surface_form  token_index   input_text   translation       tag  \\\n",
       "0          1          ke-            0   Kenòn:we’s    I like it.       1SG   \n",
       "1          1       nòn:we            1   Kenòn:we’s    I like it.      like   \n",
       "2          1          -’s            2   Kenòn:we’s    I like it.  habitual   \n",
       "3          2          wa-            0  Wakenòn:we’   I liked it.      PAST   \n",
       "4          2          ke-            1  Wakenòn:we’   I liked it.       1SG   \n",
       "5          2       nòn:we            2  Wakenòn:we’   I liked it.      like   \n",
       "6          2           -’            3  Wakenòn:we’   I liked it.      PUNC   \n",
       "7          3          ro-            0   Ronòn:we’s  He likes it.     3SG.M   \n",
       "8          3       nòn:we            1   Ronòn:we’s  He likes it.      like   \n",
       "9          3          -’s            2   Ronòn:we’s  He likes it.  habitual   \n",
       "\n",
       "  stem_type category            usage_context validation_status  \n",
       "0    C-STEM     blue      everyday expression          verified  \n",
       "1    C-STEM     blue      everyday expression          verified  \n",
       "2    C-STEM     blue      everyday expression          verified  \n",
       "3    C-STEM     blue  past tense storytelling    pending_review  \n",
       "4    C-STEM     blue  past tense storytelling    pending_review  \n",
       "5    C-STEM     blue  past tense storytelling    pending_review  \n",
       "6    C-STEM     blue  past tense storytelling    pending_review  \n",
       "7    C-STEM     blue  basic sentence practice  needs_validation  \n",
       "8    C-STEM     blue  basic sentence practice  needs_validation  \n",
       "9    C-STEM     blue  basic sentence practice  needs_validation  "
      ]
     },
     "execution_count": 30,
     "metadata": {},
     "output_type": "execute_result"
    }
   ],
   "source": [
    "# 🧾 Load morphemes and inspect sample\n",
    "morphemes_df = pd.read_json(\"/Github/mini-indig-llm-kit/datasets/generated/morphemes_extended.json\")\n",
    "morphemes_df.head(10)"
   ]
  },
  {
   "cell_type": "markdown",
   "id": "6179f04a",
   "metadata": {},
   "source": [
    "## 🤗 Export Hugging Face Tokenizer Configuration"
   ]
  },
  {
   "cell_type": "code",
   "execution_count": 31,
   "id": "7ebb0989",
   "metadata": {},
   "outputs": [
    {
     "name": "stdout",
     "output_type": "stream",
     "text": [
      "✅ tokenizer_extended_config.json generated.\n"
     ]
    }
   ],
   "source": [
    "tokenizer_config = {\n",
    "    \"lang\": \"kanienkeha\",\n",
    "    \"name\": \"kanienkeha-akwesasne-tokenizer\",\n",
    "    \"tokenizer_class\": \"PreTrainedTokenizerFast\",\n",
    "    \"do_lower_case\": False,\n",
    "    \"model_max_length\": 128,\n",
    "    \"bos_token\": \"<s>\",\n",
    "    \"eos_token\": \"</s>\",\n",
    "    \"unk_token\": \"<unk>\",\n",
    "    \"pad_token\": \"<pad>\",\n",
    "    \"sep_token\": \"<sep>\",\n",
    "    \"cls_token\": \"<cls>\"\n",
    "}\n",
    "\n",
    "with open(\"/Github/mini-indig-llm-kit/datasets/generated/tokenizer_extended_config.json\", \"w\", encoding=\"utf-8\") as f:\n",
    "    json.dump(tokenizer_config, f, indent=2)\n",
    "print(\"✅ tokenizer_extended_config.json generated.\")"
   ]
  },
  {
   "cell_type": "markdown",
   "id": "b665a79c",
   "metadata": {},
   "source": [
    "## 📤 Ready for Upload\n",
    "\n",
    "You now have:\n",
    "- `morphemes.json`: Structured token data\n",
    "- `tokenizer_config.json`: HF-compatible configuration\n",
    "\n",
    "Ready for HuggingFace Hub upload or further tokenizer training."
   ]
  }
 ],
 "metadata": {
  "kernelspec": {
   "display_name": "Python 3 (ipykernel)",
   "language": "python",
   "name": "python3"
  },
  "language_info": {
   "codemirror_mode": {
    "name": "ipython",
    "version": 3
   },
   "file_extension": ".py",
   "mimetype": "text/x-python",
   "name": "python",
   "nbconvert_exporter": "python",
   "pygments_lexer": "ipython3",
   "version": "3.13.5"
  }
 },
 "nbformat": 4,
 "nbformat_minor": 5
}
