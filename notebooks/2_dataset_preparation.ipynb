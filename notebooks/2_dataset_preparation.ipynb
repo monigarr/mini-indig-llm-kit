{
 "cells": [
  {
   "cell_type": "code",
   "execution_count": null,
   "id": "65a1b8f0",
   "metadata": {
    "vscode": {
     "languageId": "plaintext"
    }
   },
   "outputs": [],
   "source": [
    "# 2_dataset_preparation.ipynb\n",
    "\"\"\"\n",
    "Prepare raw text data for tokenizer training and QLoRA fine-tuning.\n",
    "This notebook helps you clean, segment, and structure a corpus in a way that works well for low-resource, polysynthetic languages.\n",
    "\"\"\""
   ]
  },
  {
   "cell_type": "code",
   "execution_count": null,
   "id": "7d65270e",
   "metadata": {
    "vscode": {
     "languageId": "plaintext"
    }
   },
   "outputs": [],
   "source": [
    "# 📦 Step 1: Install dependencies if needed\n",
    "!pip install pandas datasets"
   ]
  },
  {
   "cell_type": "code",
   "execution_count": null,
   "id": "fe4ea10b",
   "metadata": {
    "vscode": {
     "languageId": "plaintext"
    }
   },
   "outputs": [],
   "source": [
    "# 📚 Step 2: Load raw text data\n",
    "corpus_path = \"../datasets/sample_corpus.txt\"\n",
    "\n",
    "with open(corpus_path, \"r\", encoding=\"utf-8\") as f:\n",
    "    raw_lines = f.readlines()\n",
    "\n",
    "print(f\"📄 Loaded {len(raw_lines)} lines from sample corpus.\")"
   ]
  },
  {
   "cell_type": "code",
   "execution_count": null,
   "id": "7493fad4",
   "metadata": {
    "vscode": {
     "languageId": "plaintext"
    }
   },
   "outputs": [],
   "source": [
    "# 🔍 Step 3: Clean and normalize text\n",
    "def clean_text(text):\n",
    "    text = text.strip()\n",
    "    text = text.replace(\"  \", \" \")     # remove double spaces\n",
    "    text = text.replace(\"\\u00a0\", \" \") # replace non-breaking spaces"
   ]
  }
 ],
 "metadata": {
  "language_info": {
   "name": "python"
  }
 },
 "nbformat": 4,
 "nbformat_minor": 5
}
